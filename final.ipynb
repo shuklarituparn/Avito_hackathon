{
    "cells": [
        {
            "cell_type": "markdown",
            "metadata": {},
            "source": [
                "# Решение\n",
                "    "
            ]
        },
        {
            "cell_type": "code",
            "execution_count": null,
            "metadata": {},
            "outputs": [
                {
                    "name": "stdout",
                    "output_type": "stream",
                    "text": [
                        "Товар имеет цвет: fioletovyi\n",
                        "\n",
                        "Топ-5 наиболее вероятных цветов:  {'fioletovyi': '0.9922', 'raznocvetnyi': '0.0038', 'rozovyi': '0.0016', 'bordovyi': '0.0008', 'sinii': '0.0004'}\n",
                        "\n",
                        "Топ-19 наиболее вероятных цветов:  {'fioletovyi': '0.9922', 'raznocvetnyi': '0.0038', 'rozovyi': '0.0016', 'bordovyi': '0.0008', 'sinii': '0.0004', 'krasnyi': '0.0003', 'belyi': '0.0002', 'chernyi': '0.0002', 'zelenyi': '0.0002', 'seryi': '0.0001', 'biryuzovyi': '0.0000', 'oranzhevyi': '0.0000', 'korichnevyi': '0.0000', 'bezhevyi': '0.0000', 'zheltyi': '0.0000', 'zolotoi': '0.0000', 'goluboi': '0.0000', 'serebristyi': '0.0000'}\n"
                    ]
                }
            ],
            "source": [
                "import torch\n",
                "import timm\n",
                "import torchvision.transforms as transforms\n",
                "from PIL import Image\n",
                "import torch.nn.functional as F\n",
                "import numpy\n",
                "\n",
                "device = torch.device(\"cuda\" if torch.cuda.is_available() else \"cpu\")\n",
                "\n",
                "COLORS = [\"bezhevyi\", \"belyi\", \"biryuzovyi\", \"bordovyi\", \"goluboi\", \"zheltyi\", \"zelenyi\", \"zolotoi\", \"korichnevyi\", \"krasnyi\", \"oranzhevyi\", \"raznocvetnyi\", \"rozovyi\", \"serebristyi\", \"seryi\", \"sinii\", \"fioletovyi\", \"chernyi\"]\n",
                "\n",
                "model = timm.create_model(\"efficientnet_b3\", pretrained=False, num_classes=len(COLORS), drop_rate=0.3)\n",
                "model = model.to(device)\n",
                "\n",
                "checkpoint = torch.load(\"general_3_reg.pth\", map_location=device)\n",
                "model.load_state_dict(checkpoint)\n",
                "model.eval()\n",
                "\n",
                "transform = transforms.Compose([\n",
                "    transforms.Resize((224, 224)),\n",
                "    transforms.ColorJitter(brightness=0.3, contrast=0.3, saturation=0.3, hue=0.1),\n",
                "    transforms.ToTensor(),\n",
                "    transforms.Normalize([0.485, 0.456, 0.406], [0.229, 0.224, 0.225])\n",
                "])\n",
                "\n",
                "\n",
                "def detect_color(image_path):\n",
                "    \"\"\"\n",
                "    Загружает фото товара, применяет необходимые преобразования\n",
                "    и возвращает 5 лучших прогнозируемых цветов для него и еще возвращает\n",
                "    18 лучших Распознанных цветов с вероятностями .\n",
                "    \"\"\"\n",
                "     \n",
                "\n",
                "    img = Image.open(image_path).convert(\"RGB\")\n",
                "    img_tensor = transform(img).unsqueeze(0).to(device)\n",
                "\n",
                "    with torch.no_grad():\n",
                "        outputs = model(img_tensor)\n",
                "        probabilities = F.softmax(outputs, dim=1)\n",
                "\n",
                "        top19_vals, top19_idx = torch.topk(probabilities, len(COLORS))\n",
                "        color_probabilities_19 = {\n",
                "            COLORS[idx.item()]: format(top19_vals[0][i].item(), \".4f\") for i, idx in enumerate(top19_idx[0])\n",
                "        }\n",
                "\n",
                "        top5_vals, top5_idx = torch.topk(probabilities, 5)\n",
                "        color_probabilities_5 = {\n",
                "            COLORS[idx.item()]: format(top5_vals[0][i].item(), \".4f\") for i, idx in enumerate(top5_idx[0])\n",
                "        }\n",
                "\n",
                "    return color_probabilities_19, color_probabilities_5  \n",
                "\n",
                "path = input(\"Запишите локальный путь к фото: \")\n",
                "color_probs_19, color_probs_5 = detect_color(path)  \n",
                "\n",
                "print(\"Товар имеет цвет:\", list(color_probs_5.keys())[0])  # Most probable color\n",
                "print(\"\\nТоп-5 наиболее вероятных цветов: \", color_probs_5)\n",
                "print(\"\\nТоп-19 наиболее вероятных цветов: \", color_probs_19)\n"
            ]
        }
    ],
    "metadata": {
        "kernelspec": {
            "display_name": ".venv",
            "language": "python",
            "name": "python3"
        },
        "language_info": {
            "codemirror_mode": {
                "name": "ipython",
                "version": 3
            },
            "file_extension": ".py",
            "mimetype": "text/x-python",
            "name": "python",
            "nbconvert_exporter": "python",
            "pygments_lexer": "ipython3",
            "version": "3.12.3"
        }
    },
    "nbformat": 4,
    "nbformat_minor": 2
}
